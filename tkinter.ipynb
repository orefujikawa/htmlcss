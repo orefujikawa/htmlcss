{
 "cells": [
  {
   "cell_type": "code",
   "execution_count": 4,
   "metadata": {},
   "outputs": [],
   "source": [
    "import re\n",
    "import random\n",
    "# string=input(prin)\n",
    "def siri():\n",
    "    string=num\n",
    "    a=['1.txt','3.txt','4.txt','5.txt']\n",
    "    l=string[-1]\n",
    "    pattern='^'+l+'.'+'*'# pattern='^い*'# print(pattern)\n",
    "    r=random.choice(a)\n",
    "    file=open(r,'r',encoding='UTF-8')\n",
    "    mat=re.compile(pattern)\n",
    "    deta=file.readlines()\n",
    "    # print(deta)['あい（愛\\n', 'いあつ（威圧\\n', 'うい（憂い\\n', 'えあこん（エアコン\\n', 'おあしす（オアシス\\n', 'かあさん（母さん\\n']\n",
    "    for i in deta:\n",
    "            e=re.match(mat,i)# print(i)\n",
    "            if e==None:\n",
    "                continue\n",
    "            co=e.group()\n",
    "            # print(co)\n",
    "    file.close()\n",
    "    return co\n",
    "\n"
   ]
  },
  {
   "cell_type": "code",
   "execution_count": 10,
   "metadata": {},
   "outputs": [
    {
     "name": "stdout",
     "output_type": "stream",
     "text": [
      "あいず（合図\n",
      "あ\n",
      "い\n",
      "ず\n",
      "（\n",
      "合\n",
      "図\n"
     ]
    }
   ],
   "source": [
    "import tkinter as tk\n",
    "global botton\n",
    "a=\"\"\n",
    "i=\"\"\n",
    "u=\"\"\n",
    "e=\"\"\n",
    "o=\"\"\n",
    "hozon=[\"\",\"\",\"\",\"\",\"\"]\n",
    "root=tk.Tk()\n",
    "string=tk.StringVar(root)\n",
    "# 表示\n",
    "def printlin():\n",
    "    global num\n",
    "    num=input_text.get()\n",
    "    # print(num)\n",
    "    # print(siri())\n",
    "    siri()\n",
    "    string.set(siri())\n",
    "    siri_list=siri()\n",
    "    print(siri_list)\n",
    "    for a in siri_list:\n",
    "            print(a)\n",
    "    return num\n",
    "\n",
    "root.geometry('400x300')\n",
    "root.title('tkinter')\n",
    "input_text=tk.Entry(width=40)\n",
    "input_text.place(x=20, y=100)\n",
    "text=tk.Label(text='入力テキスト')\n",
    "# string.set(printlin)\n",
    "ok=tk.Label(textvariable=string)\n",
    "\n",
    "# ボタン\n",
    "button1 = tk.Button(root,text ='ボタン',command=printlin)\n",
    "# print(siri())\n",
    "text.pack()\n",
    "button1.pack()\n",
    "ok.pack()\n",
    "root.mainloop()\n",
    "# print(num)\n"
   ]
  }
 ],
 "metadata": {
  "kernelspec": {
   "display_name": "Python 3.11.0 64-bit",
   "language": "python",
   "name": "python3"
  },
  "language_info": {
   "codemirror_mode": {
    "name": "ipython",
    "version": 3
   },
   "file_extension": ".py",
   "mimetype": "text/x-python",
   "name": "python",
   "nbconvert_exporter": "python",
   "pygments_lexer": "ipython3",
   "version": "3.11.0"
  },
  "orig_nbformat": 4,
  "vscode": {
   "interpreter": {
    "hash": "aee8b7b246df8f9039afb4144a1f6fd8d2ca17a180786b69acc140d282b71a49"
   }
  }
 },
 "nbformat": 4,
 "nbformat_minor": 2
}
